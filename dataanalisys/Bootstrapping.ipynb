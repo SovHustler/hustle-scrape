{
 "cells": [
  {
   "cell_type": "code",
   "execution_count": 1,
   "metadata": {},
   "outputs": [],
   "source": [
    "import scripts.pipeline as pipeline\n",
    "import scripts.analisys as analisys\n",
    "import scripts.model_preparation as model_preparation\n",
    "import scripts.model as model\n",
    "import scripts.model_interpretation as model_interpretation"
   ]
  },
  {
   "cell_type": "code",
   "execution_count": 2,
   "metadata": {},
   "outputs": [],
   "source": [
    "import pandas as pd\n",
    "import numpy as np\n",
    "import matplotlib.pyplot as plt\n",
    "import seaborn as sns\n",
    "\n",
    "pd.set_option('display.max_columns', 500)"
   ]
  },
  {
   "cell_type": "markdown",
   "metadata": {},
   "source": [
    "## Анализ результатов"
   ]
  },
  {
   "cell_type": "markdown",
   "metadata": {},
   "source": [
    "#### Загрузим данные по крестам"
   ]
  },
  {
   "cell_type": "code",
   "execution_count": 3,
   "metadata": {},
   "outputs": [
    {
     "name": "stderr",
     "output_type": "stream",
     "text": [
      "/home/aklyukvin/go/src/github.com/Sovianum/hustleScrape/dataanalisys/scripts/pipeline.py:128: SettingWithCopyWarning: \n",
      "A value is trying to be set on a copy of a slice from a DataFrame\n",
      "\n",
      "See the caveats in the documentation: http://pandas.pydata.org/pandas-docs/stable/user_guide/indexing.html#returning-a-view-versus-a-copy\n",
      "  df.passed[df.passed == 0] = -1\n"
     ]
    },
    {
     "data": {
      "text/html": [
       "<div>\n",
       "<style scoped>\n",
       "    .dataframe tbody tr th:only-of-type {\n",
       "        vertical-align: middle;\n",
       "    }\n",
       "\n",
       "    .dataframe tbody tr th {\n",
       "        vertical-align: top;\n",
       "    }\n",
       "\n",
       "    .dataframe thead th {\n",
       "        text-align: right;\n",
       "    }\n",
       "</style>\n",
       "<table border=\"1\" class=\"dataframe\">\n",
       "  <thead>\n",
       "    <tr style=\"text-align: right;\">\n",
       "      <th></th>\n",
       "      <th>competitor_id</th>\n",
       "      <th>competition_id</th>\n",
       "      <th>judge_name</th>\n",
       "      <th>category</th>\n",
       "      <th>phase</th>\n",
       "      <th>passed</th>\n",
       "    </tr>\n",
       "  </thead>\n",
       "  <tbody>\n",
       "    <tr>\n",
       "      <td>0</td>\n",
       "      <td>10655</td>\n",
       "      <td>NORD CUP 2020_2020-03-13</td>\n",
       "      <td>ирина кудрявцева</td>\n",
       "      <td>dnd beginner</td>\n",
       "      <td>16</td>\n",
       "      <td>1</td>\n",
       "    </tr>\n",
       "    <tr>\n",
       "      <td>1</td>\n",
       "      <td>10655</td>\n",
       "      <td>NORD CUP 2020_2020-03-13</td>\n",
       "      <td>кудрявцев михаил</td>\n",
       "      <td>dnd beginner</td>\n",
       "      <td>16</td>\n",
       "      <td>1</td>\n",
       "    </tr>\n",
       "    <tr>\n",
       "      <td>2</td>\n",
       "      <td>10655</td>\n",
       "      <td>NORD CUP 2020_2020-03-13</td>\n",
       "      <td>лебедев сергей</td>\n",
       "      <td>dnd beginner</td>\n",
       "      <td>16</td>\n",
       "      <td>1</td>\n",
       "    </tr>\n",
       "    <tr>\n",
       "      <td>3</td>\n",
       "      <td>10655</td>\n",
       "      <td>NORD CUP 2020_2020-03-13</td>\n",
       "      <td>александр милованов</td>\n",
       "      <td>dnd beginner</td>\n",
       "      <td>16</td>\n",
       "      <td>1</td>\n",
       "    </tr>\n",
       "    <tr>\n",
       "      <td>4</td>\n",
       "      <td>10486</td>\n",
       "      <td>NORD CUP 2020_2020-03-13</td>\n",
       "      <td>александр милованов</td>\n",
       "      <td>dnd beginner</td>\n",
       "      <td>16</td>\n",
       "      <td>1</td>\n",
       "    </tr>\n",
       "  </tbody>\n",
       "</table>\n",
       "</div>"
      ],
      "text/plain": [
       "   competitor_id            competition_id           judge_name      category  \\\n",
       "0          10655  NORD CUP 2020_2020-03-13     ирина кудрявцева  dnd beginner   \n",
       "1          10655  NORD CUP 2020_2020-03-13     кудрявцев михаил  dnd beginner   \n",
       "2          10655  NORD CUP 2020_2020-03-13       лебедев сергей  dnd beginner   \n",
       "3          10655  NORD CUP 2020_2020-03-13  александр милованов  dnd beginner   \n",
       "4          10486  NORD CUP 2020_2020-03-13  александр милованов  dnd beginner   \n",
       "\n",
       "   phase  passed  \n",
       "0     16       1  \n",
       "1     16       1  \n",
       "2     16       1  \n",
       "3     16       1  \n",
       "4     16       1  "
      ]
     },
     "execution_count": 3,
     "metadata": {},
     "output_type": "execute_result"
    }
   ],
   "source": [
    "raw_crosses = pipeline.get_raw_crosses('dataset/crosses.csv')\n",
    "raw_crosses.head()"
   ]
  },
  {
   "cell_type": "code",
   "execution_count": 4,
   "metadata": {},
   "outputs": [],
   "source": [
    "# выдадим спортсменам синтетический инкрементные идентификаторы\n",
    "# а также дадим уникальные турнирные идентификаторы\n",
    "\n",
    "raw_crosses = pipeline.enrich_crosses_df(raw_crosses)"
   ]
  },
  {
   "cell_type": "markdown",
   "metadata": {},
   "source": [
    "#### Загрузим данные по местам"
   ]
  },
  {
   "cell_type": "code",
   "execution_count": 5,
   "metadata": {},
   "outputs": [
    {
     "data": {
      "text/html": [
       "<div>\n",
       "<style scoped>\n",
       "    .dataframe tbody tr th:only-of-type {\n",
       "        vertical-align: middle;\n",
       "    }\n",
       "\n",
       "    .dataframe tbody tr th {\n",
       "        vertical-align: top;\n",
       "    }\n",
       "\n",
       "    .dataframe thead th {\n",
       "        text-align: right;\n",
       "    }\n",
       "</style>\n",
       "<table border=\"1\" class=\"dataframe\">\n",
       "  <thead>\n",
       "    <tr style=\"text-align: right;\">\n",
       "      <th></th>\n",
       "      <th>competitor_id</th>\n",
       "      <th>category</th>\n",
       "      <th>competition_id</th>\n",
       "      <th>total_competitors</th>\n",
       "      <th>place_low</th>\n",
       "      <th>place_high</th>\n",
       "      <th>place</th>\n",
       "    </tr>\n",
       "  </thead>\n",
       "  <tbody>\n",
       "    <tr>\n",
       "      <td>0</td>\n",
       "      <td>11220</td>\n",
       "      <td>dnd beginner</td>\n",
       "      <td>NORD CUP 2020_2020-03-13</td>\n",
       "      <td>52</td>\n",
       "      <td>1</td>\n",
       "      <td>1</td>\n",
       "      <td>1.0</td>\n",
       "    </tr>\n",
       "    <tr>\n",
       "      <td>1</td>\n",
       "      <td>8082</td>\n",
       "      <td>dnd beginner</td>\n",
       "      <td>NORD CUP 2020_2020-03-13</td>\n",
       "      <td>52</td>\n",
       "      <td>2</td>\n",
       "      <td>2</td>\n",
       "      <td>2.0</td>\n",
       "    </tr>\n",
       "    <tr>\n",
       "      <td>2</td>\n",
       "      <td>11190</td>\n",
       "      <td>dnd beginner</td>\n",
       "      <td>NORD CUP 2020_2020-03-13</td>\n",
       "      <td>52</td>\n",
       "      <td>3</td>\n",
       "      <td>3</td>\n",
       "      <td>3.0</td>\n",
       "    </tr>\n",
       "    <tr>\n",
       "      <td>3</td>\n",
       "      <td>10311</td>\n",
       "      <td>dnd beginner</td>\n",
       "      <td>NORD CUP 2020_2020-03-13</td>\n",
       "      <td>52</td>\n",
       "      <td>4</td>\n",
       "      <td>4</td>\n",
       "      <td>4.0</td>\n",
       "    </tr>\n",
       "    <tr>\n",
       "      <td>4</td>\n",
       "      <td>1650</td>\n",
       "      <td>dnd beginner</td>\n",
       "      <td>NORD CUP 2020_2020-03-13</td>\n",
       "      <td>52</td>\n",
       "      <td>5</td>\n",
       "      <td>5</td>\n",
       "      <td>5.0</td>\n",
       "    </tr>\n",
       "  </tbody>\n",
       "</table>\n",
       "</div>"
      ],
      "text/plain": [
       "   competitor_id      category            competition_id  total_competitors  \\\n",
       "0          11220  dnd beginner  NORD CUP 2020_2020-03-13                 52   \n",
       "1           8082  dnd beginner  NORD CUP 2020_2020-03-13                 52   \n",
       "2          11190  dnd beginner  NORD CUP 2020_2020-03-13                 52   \n",
       "3          10311  dnd beginner  NORD CUP 2020_2020-03-13                 52   \n",
       "4           1650  dnd beginner  NORD CUP 2020_2020-03-13                 52   \n",
       "\n",
       "   place_low  place_high  place  \n",
       "0          1           1    1.0  \n",
       "1          2           2    2.0  \n",
       "2          3           3    3.0  \n",
       "3          4           4    4.0  \n",
       "4          5           5    5.0  "
      ]
     },
     "execution_count": 5,
     "metadata": {},
     "output_type": "execute_result"
    }
   ],
   "source": [
    "raw_places = pipeline.get_raw_places('dataset/results.csv')\n",
    "raw_places.head()"
   ]
  },
  {
   "cell_type": "code",
   "execution_count": 6,
   "metadata": {},
   "outputs": [
    {
     "data": {
      "text/html": [
       "<div>\n",
       "<style scoped>\n",
       "    .dataframe tbody tr th:only-of-type {\n",
       "        vertical-align: middle;\n",
       "    }\n",
       "\n",
       "    .dataframe tbody tr th {\n",
       "        vertical-align: top;\n",
       "    }\n",
       "\n",
       "    .dataframe thead th {\n",
       "        text-align: right;\n",
       "    }\n",
       "</style>\n",
       "<table border=\"1\" class=\"dataframe\">\n",
       "  <thead>\n",
       "    <tr style=\"text-align: right;\">\n",
       "      <th></th>\n",
       "      <th>competitor_id</th>\n",
       "      <th>competition_id</th>\n",
       "      <th>judge_name</th>\n",
       "      <th>category</th>\n",
       "      <th>phase</th>\n",
       "      <th>passed</th>\n",
       "      <th>syntethic_competitor_id</th>\n",
       "      <th>unique_id</th>\n",
       "      <th>category_label</th>\n",
       "      <th>total_competitors</th>\n",
       "      <th>place_low</th>\n",
       "      <th>place_high</th>\n",
       "      <th>place</th>\n",
       "    </tr>\n",
       "  </thead>\n",
       "  <tbody>\n",
       "    <tr>\n",
       "      <td>0</td>\n",
       "      <td>10655</td>\n",
       "      <td>NORD CUP 2020_2020-03-13</td>\n",
       "      <td>ирина кудрявцева</td>\n",
       "      <td>dnd beginner</td>\n",
       "      <td>16</td>\n",
       "      <td>1</td>\n",
       "      <td>0.0</td>\n",
       "      <td>10655NORD CUP 2020_2020-03-13dnd beginner</td>\n",
       "      <td>NORD CUP 2020_2020-03-13dnd beginner</td>\n",
       "      <td>52</td>\n",
       "      <td>19</td>\n",
       "      <td>22</td>\n",
       "      <td>20.5</td>\n",
       "    </tr>\n",
       "    <tr>\n",
       "      <td>1</td>\n",
       "      <td>10655</td>\n",
       "      <td>NORD CUP 2020_2020-03-13</td>\n",
       "      <td>кудрявцев михаил</td>\n",
       "      <td>dnd beginner</td>\n",
       "      <td>16</td>\n",
       "      <td>1</td>\n",
       "      <td>0.0</td>\n",
       "      <td>10655NORD CUP 2020_2020-03-13dnd beginner</td>\n",
       "      <td>NORD CUP 2020_2020-03-13dnd beginner</td>\n",
       "      <td>52</td>\n",
       "      <td>19</td>\n",
       "      <td>22</td>\n",
       "      <td>20.5</td>\n",
       "    </tr>\n",
       "    <tr>\n",
       "      <td>2</td>\n",
       "      <td>10655</td>\n",
       "      <td>NORD CUP 2020_2020-03-13</td>\n",
       "      <td>лебедев сергей</td>\n",
       "      <td>dnd beginner</td>\n",
       "      <td>16</td>\n",
       "      <td>1</td>\n",
       "      <td>0.0</td>\n",
       "      <td>10655NORD CUP 2020_2020-03-13dnd beginner</td>\n",
       "      <td>NORD CUP 2020_2020-03-13dnd beginner</td>\n",
       "      <td>52</td>\n",
       "      <td>19</td>\n",
       "      <td>22</td>\n",
       "      <td>20.5</td>\n",
       "    </tr>\n",
       "    <tr>\n",
       "      <td>3</td>\n",
       "      <td>10655</td>\n",
       "      <td>NORD CUP 2020_2020-03-13</td>\n",
       "      <td>александр милованов</td>\n",
       "      <td>dnd beginner</td>\n",
       "      <td>16</td>\n",
       "      <td>1</td>\n",
       "      <td>0.0</td>\n",
       "      <td>10655NORD CUP 2020_2020-03-13dnd beginner</td>\n",
       "      <td>NORD CUP 2020_2020-03-13dnd beginner</td>\n",
       "      <td>52</td>\n",
       "      <td>19</td>\n",
       "      <td>22</td>\n",
       "      <td>20.5</td>\n",
       "    </tr>\n",
       "    <tr>\n",
       "      <td>4</td>\n",
       "      <td>10655</td>\n",
       "      <td>NORD CUP 2020_2020-03-13</td>\n",
       "      <td>ирина кудрявцева</td>\n",
       "      <td>dnd beginner</td>\n",
       "      <td>8</td>\n",
       "      <td>1</td>\n",
       "      <td>21.0</td>\n",
       "      <td>10655NORD CUP 2020_2020-03-13dnd beginner</td>\n",
       "      <td>NORD CUP 2020_2020-03-13dnd beginner</td>\n",
       "      <td>52</td>\n",
       "      <td>19</td>\n",
       "      <td>22</td>\n",
       "      <td>20.5</td>\n",
       "    </tr>\n",
       "  </tbody>\n",
       "</table>\n",
       "</div>"
      ],
      "text/plain": [
       "   competitor_id            competition_id           judge_name      category  \\\n",
       "0          10655  NORD CUP 2020_2020-03-13     ирина кудрявцева  dnd beginner   \n",
       "1          10655  NORD CUP 2020_2020-03-13     кудрявцев михаил  dnd beginner   \n",
       "2          10655  NORD CUP 2020_2020-03-13       лебедев сергей  dnd beginner   \n",
       "3          10655  NORD CUP 2020_2020-03-13  александр милованов  dnd beginner   \n",
       "4          10655  NORD CUP 2020_2020-03-13     ирина кудрявцева  dnd beginner   \n",
       "\n",
       "   phase  passed  syntethic_competitor_id  \\\n",
       "0     16       1                      0.0   \n",
       "1     16       1                      0.0   \n",
       "2     16       1                      0.0   \n",
       "3     16       1                      0.0   \n",
       "4      8       1                     21.0   \n",
       "\n",
       "                                   unique_id  \\\n",
       "0  10655NORD CUP 2020_2020-03-13dnd beginner   \n",
       "1  10655NORD CUP 2020_2020-03-13dnd beginner   \n",
       "2  10655NORD CUP 2020_2020-03-13dnd beginner   \n",
       "3  10655NORD CUP 2020_2020-03-13dnd beginner   \n",
       "4  10655NORD CUP 2020_2020-03-13dnd beginner   \n",
       "\n",
       "                         category_label  total_competitors  place_low  \\\n",
       "0  NORD CUP 2020_2020-03-13dnd beginner                 52         19   \n",
       "1  NORD CUP 2020_2020-03-13dnd beginner                 52         19   \n",
       "2  NORD CUP 2020_2020-03-13dnd beginner                 52         19   \n",
       "3  NORD CUP 2020_2020-03-13dnd beginner                 52         19   \n",
       "4  NORD CUP 2020_2020-03-13dnd beginner                 52         19   \n",
       "\n",
       "   place_high  place  \n",
       "0          22   20.5  \n",
       "1          22   20.5  \n",
       "2          22   20.5  \n",
       "3          22   20.5  \n",
       "4          22   20.5  "
      ]
     },
     "execution_count": 6,
     "metadata": {},
     "output_type": "execute_result"
    }
   ],
   "source": [
    "results = pipeline.join_crosses_and_results(raw_crosses, raw_places)\n",
    "results.head()"
   ]
  },
  {
   "cell_type": "markdown",
   "metadata": {},
   "source": [
    "#### Будем рассматривать только судей, которые поставили больше некоторого порога оценок"
   ]
  },
  {
   "cell_type": "code",
   "execution_count": 7,
   "metadata": {},
   "outputs": [
    {
     "data": {
      "text/html": [
       "<div>\n",
       "<style scoped>\n",
       "    .dataframe tbody tr th:only-of-type {\n",
       "        vertical-align: middle;\n",
       "    }\n",
       "\n",
       "    .dataframe tbody tr th {\n",
       "        vertical-align: top;\n",
       "    }\n",
       "\n",
       "    .dataframe thead th {\n",
       "        text-align: right;\n",
       "    }\n",
       "</style>\n",
       "<table border=\"1\" class=\"dataframe\">\n",
       "  <thead>\n",
       "    <tr style=\"text-align: right;\">\n",
       "      <th></th>\n",
       "      <th>competitor_id</th>\n",
       "      <th>competition_id</th>\n",
       "      <th>judge_name</th>\n",
       "      <th>category</th>\n",
       "      <th>phase</th>\n",
       "      <th>passed</th>\n",
       "      <th>syntethic_competitor_id</th>\n",
       "      <th>unique_id</th>\n",
       "      <th>category_label</th>\n",
       "      <th>total_competitors</th>\n",
       "      <th>place_low</th>\n",
       "      <th>place_high</th>\n",
       "      <th>place</th>\n",
       "    </tr>\n",
       "  </thead>\n",
       "  <tbody>\n",
       "    <tr>\n",
       "      <td>0</td>\n",
       "      <td>10655</td>\n",
       "      <td>NORD CUP 2020_2020-03-13</td>\n",
       "      <td>ирина кудрявцева</td>\n",
       "      <td>dnd beginner</td>\n",
       "      <td>16</td>\n",
       "      <td>1</td>\n",
       "      <td>0.0</td>\n",
       "      <td>10655NORD CUP 2020_2020-03-13dnd beginner</td>\n",
       "      <td>NORD CUP 2020_2020-03-13dnd beginner</td>\n",
       "      <td>52</td>\n",
       "      <td>19</td>\n",
       "      <td>22</td>\n",
       "      <td>20.5</td>\n",
       "    </tr>\n",
       "    <tr>\n",
       "      <td>1</td>\n",
       "      <td>10655</td>\n",
       "      <td>NORD CUP 2020_2020-03-13</td>\n",
       "      <td>кудрявцев михаил</td>\n",
       "      <td>dnd beginner</td>\n",
       "      <td>16</td>\n",
       "      <td>1</td>\n",
       "      <td>0.0</td>\n",
       "      <td>10655NORD CUP 2020_2020-03-13dnd beginner</td>\n",
       "      <td>NORD CUP 2020_2020-03-13dnd beginner</td>\n",
       "      <td>52</td>\n",
       "      <td>19</td>\n",
       "      <td>22</td>\n",
       "      <td>20.5</td>\n",
       "    </tr>\n",
       "    <tr>\n",
       "      <td>2</td>\n",
       "      <td>10655</td>\n",
       "      <td>NORD CUP 2020_2020-03-13</td>\n",
       "      <td>лебедев сергей</td>\n",
       "      <td>dnd beginner</td>\n",
       "      <td>16</td>\n",
       "      <td>1</td>\n",
       "      <td>0.0</td>\n",
       "      <td>10655NORD CUP 2020_2020-03-13dnd beginner</td>\n",
       "      <td>NORD CUP 2020_2020-03-13dnd beginner</td>\n",
       "      <td>52</td>\n",
       "      <td>19</td>\n",
       "      <td>22</td>\n",
       "      <td>20.5</td>\n",
       "    </tr>\n",
       "    <tr>\n",
       "      <td>3</td>\n",
       "      <td>10655</td>\n",
       "      <td>NORD CUP 2020_2020-03-13</td>\n",
       "      <td>александр милованов</td>\n",
       "      <td>dnd beginner</td>\n",
       "      <td>16</td>\n",
       "      <td>1</td>\n",
       "      <td>0.0</td>\n",
       "      <td>10655NORD CUP 2020_2020-03-13dnd beginner</td>\n",
       "      <td>NORD CUP 2020_2020-03-13dnd beginner</td>\n",
       "      <td>52</td>\n",
       "      <td>19</td>\n",
       "      <td>22</td>\n",
       "      <td>20.5</td>\n",
       "    </tr>\n",
       "    <tr>\n",
       "      <td>4</td>\n",
       "      <td>10655</td>\n",
       "      <td>NORD CUP 2020_2020-03-13</td>\n",
       "      <td>ирина кудрявцева</td>\n",
       "      <td>dnd beginner</td>\n",
       "      <td>8</td>\n",
       "      <td>1</td>\n",
       "      <td>21.0</td>\n",
       "      <td>10655NORD CUP 2020_2020-03-13dnd beginner</td>\n",
       "      <td>NORD CUP 2020_2020-03-13dnd beginner</td>\n",
       "      <td>52</td>\n",
       "      <td>19</td>\n",
       "      <td>22</td>\n",
       "      <td>20.5</td>\n",
       "    </tr>\n",
       "  </tbody>\n",
       "</table>\n",
       "</div>"
      ],
      "text/plain": [
       "   competitor_id            competition_id           judge_name      category  \\\n",
       "0          10655  NORD CUP 2020_2020-03-13     ирина кудрявцева  dnd beginner   \n",
       "1          10655  NORD CUP 2020_2020-03-13     кудрявцев михаил  dnd beginner   \n",
       "2          10655  NORD CUP 2020_2020-03-13       лебедев сергей  dnd beginner   \n",
       "3          10655  NORD CUP 2020_2020-03-13  александр милованов  dnd beginner   \n",
       "4          10655  NORD CUP 2020_2020-03-13     ирина кудрявцева  dnd beginner   \n",
       "\n",
       "   phase  passed  syntethic_competitor_id  \\\n",
       "0     16       1                      0.0   \n",
       "1     16       1                      0.0   \n",
       "2     16       1                      0.0   \n",
       "3     16       1                      0.0   \n",
       "4      8       1                     21.0   \n",
       "\n",
       "                                   unique_id  \\\n",
       "0  10655NORD CUP 2020_2020-03-13dnd beginner   \n",
       "1  10655NORD CUP 2020_2020-03-13dnd beginner   \n",
       "2  10655NORD CUP 2020_2020-03-13dnd beginner   \n",
       "3  10655NORD CUP 2020_2020-03-13dnd beginner   \n",
       "4  10655NORD CUP 2020_2020-03-13dnd beginner   \n",
       "\n",
       "                         category_label  total_competitors  place_low  \\\n",
       "0  NORD CUP 2020_2020-03-13dnd beginner                 52         19   \n",
       "1  NORD CUP 2020_2020-03-13dnd beginner                 52         19   \n",
       "2  NORD CUP 2020_2020-03-13dnd beginner                 52         19   \n",
       "3  NORD CUP 2020_2020-03-13dnd beginner                 52         19   \n",
       "4  NORD CUP 2020_2020-03-13dnd beginner                 52         19   \n",
       "\n",
       "   place_high  place  \n",
       "0          22   20.5  \n",
       "1          22   20.5  \n",
       "2          22   20.5  \n",
       "3          22   20.5  \n",
       "4          22   20.5  "
      ]
     },
     "execution_count": 7,
     "metadata": {},
     "output_type": "execute_result"
    }
   ],
   "source": [
    "results = pipeline.remove_not_popular_judge_records(results, 500)\n",
    "results.head()"
   ]
  },
  {
   "cell_type": "markdown",
   "metadata": {},
   "source": [
    "#### Также уберем всех спортсменов, у которых меньше 10 оценок "
   ]
  },
  {
   "cell_type": "code",
   "execution_count": 8,
   "metadata": {},
   "outputs": [
    {
     "data": {
      "text/html": [
       "<div>\n",
       "<style scoped>\n",
       "    .dataframe tbody tr th:only-of-type {\n",
       "        vertical-align: middle;\n",
       "    }\n",
       "\n",
       "    .dataframe tbody tr th {\n",
       "        vertical-align: top;\n",
       "    }\n",
       "\n",
       "    .dataframe thead th {\n",
       "        text-align: right;\n",
       "    }\n",
       "</style>\n",
       "<table border=\"1\" class=\"dataframe\">\n",
       "  <thead>\n",
       "    <tr style=\"text-align: right;\">\n",
       "      <th></th>\n",
       "      <th>competitor_id</th>\n",
       "      <th>competition_id</th>\n",
       "      <th>judge_name</th>\n",
       "      <th>category</th>\n",
       "      <th>phase</th>\n",
       "      <th>passed</th>\n",
       "      <th>syntethic_competitor_id</th>\n",
       "      <th>unique_id</th>\n",
       "      <th>category_label</th>\n",
       "      <th>total_competitors</th>\n",
       "      <th>place_low</th>\n",
       "      <th>place_high</th>\n",
       "      <th>place</th>\n",
       "    </tr>\n",
       "  </thead>\n",
       "  <tbody>\n",
       "    <tr>\n",
       "      <td>0</td>\n",
       "      <td>10655</td>\n",
       "      <td>NORD CUP 2020_2020-03-13</td>\n",
       "      <td>ирина кудрявцева</td>\n",
       "      <td>dnd beginner</td>\n",
       "      <td>16</td>\n",
       "      <td>1</td>\n",
       "      <td>0.0</td>\n",
       "      <td>10655NORD CUP 2020_2020-03-13dnd beginner</td>\n",
       "      <td>NORD CUP 2020_2020-03-13dnd beginner</td>\n",
       "      <td>52</td>\n",
       "      <td>19</td>\n",
       "      <td>22</td>\n",
       "      <td>20.5</td>\n",
       "    </tr>\n",
       "    <tr>\n",
       "      <td>1</td>\n",
       "      <td>10655</td>\n",
       "      <td>NORD CUP 2020_2020-03-13</td>\n",
       "      <td>кудрявцев михаил</td>\n",
       "      <td>dnd beginner</td>\n",
       "      <td>16</td>\n",
       "      <td>1</td>\n",
       "      <td>0.0</td>\n",
       "      <td>10655NORD CUP 2020_2020-03-13dnd beginner</td>\n",
       "      <td>NORD CUP 2020_2020-03-13dnd beginner</td>\n",
       "      <td>52</td>\n",
       "      <td>19</td>\n",
       "      <td>22</td>\n",
       "      <td>20.5</td>\n",
       "    </tr>\n",
       "    <tr>\n",
       "      <td>2</td>\n",
       "      <td>10655</td>\n",
       "      <td>NORD CUP 2020_2020-03-13</td>\n",
       "      <td>лебедев сергей</td>\n",
       "      <td>dnd beginner</td>\n",
       "      <td>16</td>\n",
       "      <td>1</td>\n",
       "      <td>0.0</td>\n",
       "      <td>10655NORD CUP 2020_2020-03-13dnd beginner</td>\n",
       "      <td>NORD CUP 2020_2020-03-13dnd beginner</td>\n",
       "      <td>52</td>\n",
       "      <td>19</td>\n",
       "      <td>22</td>\n",
       "      <td>20.5</td>\n",
       "    </tr>\n",
       "    <tr>\n",
       "      <td>3</td>\n",
       "      <td>10655</td>\n",
       "      <td>NORD CUP 2020_2020-03-13</td>\n",
       "      <td>александр милованов</td>\n",
       "      <td>dnd beginner</td>\n",
       "      <td>16</td>\n",
       "      <td>1</td>\n",
       "      <td>0.0</td>\n",
       "      <td>10655NORD CUP 2020_2020-03-13dnd beginner</td>\n",
       "      <td>NORD CUP 2020_2020-03-13dnd beginner</td>\n",
       "      <td>52</td>\n",
       "      <td>19</td>\n",
       "      <td>22</td>\n",
       "      <td>20.5</td>\n",
       "    </tr>\n",
       "    <tr>\n",
       "      <td>4</td>\n",
       "      <td>10655</td>\n",
       "      <td>NORD CUP 2020_2020-03-13</td>\n",
       "      <td>ирина кудрявцева</td>\n",
       "      <td>dnd beginner</td>\n",
       "      <td>8</td>\n",
       "      <td>1</td>\n",
       "      <td>21.0</td>\n",
       "      <td>10655NORD CUP 2020_2020-03-13dnd beginner</td>\n",
       "      <td>NORD CUP 2020_2020-03-13dnd beginner</td>\n",
       "      <td>52</td>\n",
       "      <td>19</td>\n",
       "      <td>22</td>\n",
       "      <td>20.5</td>\n",
       "    </tr>\n",
       "  </tbody>\n",
       "</table>\n",
       "</div>"
      ],
      "text/plain": [
       "   competitor_id            competition_id           judge_name      category  \\\n",
       "0          10655  NORD CUP 2020_2020-03-13     ирина кудрявцева  dnd beginner   \n",
       "1          10655  NORD CUP 2020_2020-03-13     кудрявцев михаил  dnd beginner   \n",
       "2          10655  NORD CUP 2020_2020-03-13       лебедев сергей  dnd beginner   \n",
       "3          10655  NORD CUP 2020_2020-03-13  александр милованов  dnd beginner   \n",
       "4          10655  NORD CUP 2020_2020-03-13     ирина кудрявцева  dnd beginner   \n",
       "\n",
       "   phase  passed  syntethic_competitor_id  \\\n",
       "0     16       1                      0.0   \n",
       "1     16       1                      0.0   \n",
       "2     16       1                      0.0   \n",
       "3     16       1                      0.0   \n",
       "4      8       1                     21.0   \n",
       "\n",
       "                                   unique_id  \\\n",
       "0  10655NORD CUP 2020_2020-03-13dnd beginner   \n",
       "1  10655NORD CUP 2020_2020-03-13dnd beginner   \n",
       "2  10655NORD CUP 2020_2020-03-13dnd beginner   \n",
       "3  10655NORD CUP 2020_2020-03-13dnd beginner   \n",
       "4  10655NORD CUP 2020_2020-03-13dnd beginner   \n",
       "\n",
       "                         category_label  total_competitors  place_low  \\\n",
       "0  NORD CUP 2020_2020-03-13dnd beginner                 52         19   \n",
       "1  NORD CUP 2020_2020-03-13dnd beginner                 52         19   \n",
       "2  NORD CUP 2020_2020-03-13dnd beginner                 52         19   \n",
       "3  NORD CUP 2020_2020-03-13dnd beginner                 52         19   \n",
       "4  NORD CUP 2020_2020-03-13dnd beginner                 52         19   \n",
       "\n",
       "   place_high  place  \n",
       "0          22   20.5  \n",
       "1          22   20.5  \n",
       "2          22   20.5  \n",
       "3          22   20.5  \n",
       "4          22   20.5  "
      ]
     },
     "execution_count": 8,
     "metadata": {},
     "output_type": "execute_result"
    }
   ],
   "source": [
    "results = pipeline.remove_not_popular_judge_records(results, 9)\n",
    "results.head()"
   ]
  },
  {
   "cell_type": "markdown",
   "metadata": {},
   "source": [
    "#### Набустрапим по 50 подвыборок величиной 0.8 от исходного датасета "
   ]
  },
  {
   "cell_type": "code",
   "execution_count": 9,
   "metadata": {},
   "outputs": [
    {
     "name": "stdout",
     "output_type": "stream",
     "text": [
      "skipping 1 as min judge crosses is 58 (below 250)\n",
      "skipping 24 as min judge crosses is 195 (below 250)\n",
      "skipping 27 as min judge crosses is 116 (below 250)\n"
     ]
    }
   ],
   "source": [
    "bootstrapped_datasets = pipeline.bootstrap_by_category_labels(results, 0.8, 50, 250)"
   ]
  },
  {
   "cell_type": "code",
   "execution_count": 10,
   "metadata": {},
   "outputs": [],
   "source": [
    "bootstrapped_total_datas = [model_preparation.get_total_diff_based_model_data(dataset) for dataset in bootstrapped_datasets]"
   ]
  },
  {
   "cell_type": "markdown",
   "metadata": {},
   "source": [
    "#### Обучим модели на бутстрапленных выборках"
   ]
  },
  {
   "cell_type": "code",
   "execution_count": 11,
   "metadata": {},
   "outputs": [],
   "source": [
    "regression_data = [model.get_regression(total_data) for total_data in bootstrapped_total_datas]"
   ]
  },
  {
   "cell_type": "markdown",
   "metadata": {},
   "source": [
    "#### Построим распределение коэффициентов детерминации полученных моделей "
   ]
  },
  {
   "cell_type": "code",
   "execution_count": 12,
   "metadata": {},
   "outputs": [
    {
     "data": {
      "text/plain": [
       "<seaborn.axisgrid.FacetGrid at 0x7faea08cd7d0>"
      ]
     },
     "execution_count": 12,
     "metadata": {},
     "output_type": "execute_result"
    },
    {
     "data": {
      "text/plain": [
       "<Figure size 1280x960 with 0 Axes>"
      ]
     },
     "metadata": {},
     "output_type": "display_data"
    },
    {
     "data": {
      "image/png": "[encoded data removed]",
      "text/plain": [
       "<Figure size 414.875x360 with 1 Axes>"
      ]
     },
     "metadata": {
      "needs_background": "light"
     },
     "output_type": "display_data"
    }
   ],
   "source": [
    "plt.figure(figsize=(16, 12), dpi=80)\n",
    "\n",
    "sns.displot(pd.DataFrame({\n",
    "    \"r^2\": [tup[1] for tup in regression_data]\n",
    "}), binwidth=0.02)"
   ]
  },
  {
   "cell_type": "markdown",
   "metadata": {},
   "source": [
    "Видно, что мы имеем +- симметричное распределение в районе 0.725. То есть нет каких-то лютых забросов. При этом коэффициенты детерминации довольно сильно кучкуются в центре"
   ]
  },
  {
   "cell_type": "markdown",
   "metadata": {},
   "source": [
    "#### Построим датафрейм нормированных весов для каждой из моделей"
   ]
  },
  {
   "cell_type": "code",
   "execution_count": 19,
   "metadata": {},
   "outputs": [],
   "source": [
    "coef_datas = []\n",
    "\n",
    "for i in range(len(regression_data)):\n",
    "    coef_data = model_interpretation.get_model_coefs(\n",
    "        regression_data[i][0], bootstrapped_total_datas[i]\n",
    "    ).negate()\n",
    "    \n",
    "    coef_datas.append(coef_data)\n",
    "    \n",
    "\n",
    "\n",
    "coefs_df = pd.DataFrame.from_records([coef_data.coefs for coef_data in coef_datas], columns=coef_datas[0].labels)"
   ]
  },
  {
   "cell_type": "markdown",
   "metadata": {},
   "source": [
    "#### Посортируем полученные данные по медианному значению соответствующего коэффициента"
   ]
  },
  {
   "cell_type": "code",
   "execution_count": 14,
   "metadata": {},
   "outputs": [],
   "source": [
    "coefs_df = coefs_df[coefs_df.median().sort_values(ascending=False).index]\n",
    "coefs_df = coefs_df / coefs_df.max().max()"
   ]
  },
  {
   "cell_type": "markdown",
   "metadata": {},
   "source": [
    "#### Построим графики распределения коэффициентов по судьям"
   ]
  },
  {
   "cell_type": "code",
   "execution_count": 18,
   "metadata": {},
   "outputs": [
    {
     "data": {
      "text/plain": [
       "<matplotlib.axes._subplots.AxesSubplot at 0x7fae7499ce90>"
      ]
     },
     "execution_count": 18,
     "metadata": {},
     "output_type": "execute_result"
    },
    {
     "data": {
      "image/png": "[encoded data removed]",
      "text/plain": [
       "<Figure size 1280x960 with 1 Axes>"
      ]
     },
     "metadata": {
      "needs_background": "light"
     },
     "output_type": "display_data"
    }
   ],
   "source": [
    "plt.figure(figsize=(16, 12), dpi=80)\n",
    "\n",
    "sns.set()\n",
    "sns.boxplot(data=coefs_df, orient='h')\n",
    "# sns.swarmplot(data=coefs_df, orient='h', color=\".25\")"
   ]
  },
  {
   "cell_type": "code",
   "execution_count": null,
   "metadata": {},
   "outputs": [],
   "source": []
  },
  {
   "cell_type": "code",
   "execution_count": 20,
   "metadata": {},
   "outputs": [
    {
     "data": {
      "text/plain": [
       "81"
      ]
     },
     "execution_count": 20,
     "metadata": {},
     "output_type": "execute_result"
    }
   ],
   "source": [
    "results.category_label.unique().size"
   ]
  },
  {
   "cell_type": "code",
   "execution_count": null,
   "metadata": {},
   "outputs": [],
   "source": []
  }
 ],
 "metadata": {
  "kernelspec": {
   "display_name": "Python 3",
   "language": "python",
   "name": "python3"
  },
  "language_info": {
   "codemirror_mode": {
    "name": "ipython",
    "version": 3
   },
   "file_extension": ".py",
   "mimetype": "text/x-python",
   "name": "python",
   "nbconvert_exporter": "python",
   "pygments_lexer": "ipython3",
   "version": "3.7.4"
  }
 },
 "nbformat": 4,
 "nbformat_minor": 2
}
